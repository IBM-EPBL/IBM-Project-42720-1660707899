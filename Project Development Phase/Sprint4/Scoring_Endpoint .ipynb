{
 "cells": [
  {
   "cell_type": "code",
   "execution_count": 2,
   "id": "001dbaff",
   "metadata": {},
   "outputs": [
    {
     "name": "stdout",
     "output_type": "stream",
     "text": [
      "Scoring response\n",
      "{'predictions': [{'fields': ['prediction', 'probability'], 'values': [[1, [0.14124058303852616, 0.8587594169614738]]]}]}\n",
      "1\n",
      "The Website is the Legitimate Website ... Continue!!\n"
     ]
    }
   ],
   "source": [
    "import requests\n",
    "\n",
    "# NOTE: you must manually set API_KEY below using information retrieved from your IBM Cloud account.\n",
    "API_KEY = \"UMHwF6FFSVOKn0dE7I-kVzx-mkBr7R6wlcaA-ZQeDlcr\"\n",
    "token_response = requests.post('https://iam.cloud.ibm.com/identity/token', data={\"apikey\":\n",
    " API_KEY, \"grant_type\": 'urn:ibm:params:oauth:grant-type:apikey'})\n",
    "mltoken = token_response.json()[\"access_token\"]\n",
    "\n",
    "header = {'Content-Type': 'application/json', 'Authorization': 'Bearer ' + mltoken}\n",
    "\n",
    "# NOTE: manually define and pass the array(s) of values to be scored in the next line\n",
    "payload_scoring = {\"input_data\": [{\"field\": [[\"IPAddress\",\"LongURL\",\"ShortURL\",\"@Symbol\",\"//Redirecting\",\"PrefixSuffix\",\"SubDomain\",\"SSLfinal_state\",\"DomainLength\",\"Favicon\",\"Port\",\"HTTPStoken\",\"RequestURL\",\"AnchorURL\",\"LinksInScriptTags\",\"ServerFormHandler\",\"InfoEmail\",\"AbnormalURL\",\"Redirect\",\"Onmouseover\",\"RightClick\",\"PopupWindow\",\"Iframe\",\"AgeofDomain\",\"DNSRecord\",\"WebTraffic\",\"PageRank\",\"GoogleIndex\",\"LinksPointingToPage\",\"StatisticalReport\"\n",
    "]], \"values\": [[-1,-1,-1,1,-1,-1,1,1,-1,1,1,-1,1,0,0,-1,1,-1,0,1,1,1,1,1,-1,1,-1,1,-1,-1]]}]}\n",
    "\n",
    "response_scoring = requests.post('https://us-south.ml.cloud.ibm.com/ml/v4/deployments/cf46c1fa-b25d-4424-bf6d-846da0489ee7/predictions?version=2022-11-18', json=payload_scoring,\n",
    " headers={'Authorization': 'Bearer ' + mltoken})\n",
    "print(\"Scoring response\")\n",
    "predictions=response_scoring.json()\n",
    "print(predictions)\n",
    "pred=predictions['predictions'][0]['values'][0][0]\n",
    "print(pred)\n",
    "if(pred != -1):\n",
    "   print(\"The Website is the Legitimate Website ... Continue!!\")\n",
    "else:\n",
    "   print(\"The Website is not Legitimate... BEWARE!!\")"
   ]
  }
 ],
 "metadata": {
  "kernelspec": {
   "display_name": "Python 3 (ipykernel)",
   "language": "python",
   "name": "python3"
  },
  "language_info": {
   "codemirror_mode": {
    "name": "ipython",
    "version": 3
   },
   "file_extension": ".py",
   "mimetype": "text/x-python",
   "name": "python",
   "nbconvert_exporter": "python",
   "pygments_lexer": "ipython3",
   "version": "3.9.12"
  }
 },
 "nbformat": 4,
 "nbformat_minor": 5
}
